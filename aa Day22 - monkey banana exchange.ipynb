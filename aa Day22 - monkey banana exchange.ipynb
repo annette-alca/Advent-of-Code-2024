{
 "cells": [
  {
   "cell_type": "code",
   "execution_count": null,
   "metadata": {},
   "outputs": [],
   "source": [
    "#Annette Alca\n",
    "#Advent of Code 2024\n",
    "#Day 22 Monkey Banana Exchange"
   ]
  },
  {
   "cell_type": "code",
   "execution_count": 155,
   "metadata": {
    "scrolled": true
   },
   "outputs": [
    {
     "data": {
      "text/plain": [
       "['12811750',\n",
       " '12451632',\n",
       " '12298126',\n",
       " '340529',\n",
       " '14279190',\n",
       " '9086648',\n",
       " '5785269',\n",
       " '11561323',\n",
       " '12464375',\n",
       " '16563065']"
      ]
     },
     "execution_count": 155,
     "metadata": {},
     "output_type": "execute_result"
    }
   ],
   "source": [
    "#open file\n",
    "\n",
    "fileN = 'Day22 input.txt'\n",
    "file = open(fileN,'r')\n",
    "lines = file.read().splitlines()\n",
    "lines[:10]"
   ]
  },
  {
   "cell_type": "code",
   "execution_count": 109,
   "metadata": {},
   "outputs": [],
   "source": [
    "#Part 1 Function\n",
    "\n",
    "#mult,mix, and prune\n",
    "def generateSec(sec : int) -> int:\n",
    "    '''generates secret number'''\n",
    "    first = ((sec*64)^sec)%16777216\n",
    "    second = ((first//32)^first)%16777216\n",
    "    third = ((second*2048)^second)%16777216\n",
    "    return third"
   ]
  },
  {
   "cell_type": "code",
   "execution_count": 6,
   "metadata": {},
   "outputs": [
    {
     "name": "stdout",
     "output_type": "stream",
     "text": [
      "Part 1: 15608699004\n"
     ]
    }
   ],
   "source": [
    "#Part 1 Calculation\n",
    "\n",
    "sumtot = 0\n",
    "\n",
    "for l in lines:\n",
    "    sec = int(l)\n",
    "    for i in range(2000): #generate the 2000th secret number\n",
    "        sec = (generateSec(sec))\n",
    "    #print (l,sec)\n",
    "    sumtot += sec\n",
    "    \n",
    "print(f'Part 1: {sumtot}')"
   ]
  },
  {
   "cell_type": "code",
   "execution_count": 154,
   "metadata": {
    "scrolled": false
   },
   "outputs": [
    {
     "name": "stdout",
     "output_type": "stream",
     "text": [
      "Part 2, most bananas: 1791\n"
     ]
    }
   ],
   "source": [
    "#Part 2 \n",
    "#finding leading sequences\n",
    "\n",
    "allPrefixD = {} #dictionary of 4 leading sequences or 'prefixes' and the running total banana numbers\n",
    "\n",
    "for l in lines: #generated list of numbers from input file\n",
    "    prefixD = {}\n",
    "    runningDiffs = []\n",
    "    s = int(l)\n",
    "    for i in range(2000):\n",
    "        s = generateSec(s)\n",
    "        currlast = s%10\n",
    "\n",
    "        if i == 0: #first value is zero\n",
    "            prevlast = currlast\n",
    "        diff = currlast - prevlast\n",
    "        runningDiffs.append(diff)\n",
    "        \n",
    "        if  i >= 3: #when we have four numbers \n",
    "            lead4 = \",\".join(map(str, runningDiffs))\n",
    "            if lead4 not in prefixD:\n",
    "                prefixD[lead4] = currlast\n",
    "            runningDiffs.pop(0)\n",
    "\n",
    "        prevlast = currlast\n",
    "    \n",
    "    for lead4 in prefixD: #keep adding numbers \n",
    "        allPrefixD[lead4] = allPrefixD.get(lead4,0) + prefixD[lead4]\n",
    "\n",
    "#print max bananas\n",
    "print(f'Part 2, most bananas: {max(allPrefixD.values())}')"
   ]
  },
  {
   "cell_type": "code",
   "execution_count": 149,
   "metadata": {},
   "outputs": [
    {
     "name": "stdout",
     "output_type": "stream",
     "text": [
      "1791 -1,-1,2,1 1791\n"
     ]
    }
   ],
   "source": [
    "# Other Part 2 test\n",
    "maxB = 1\n",
    "for lead4 in allPrefixD:\n",
    "    if allPrefixD[lead4] >maxB:\n",
    "        maxB = allPrefixD[lead4]\n",
    "        bestlead = lead4\n",
    "print(maxB,bestlead, allPrefixD[bestlead])"
   ]
  }
 ],
 "metadata": {
  "kernelspec": {
   "display_name": "Python 3.9.6 64-bit",
   "language": "python",
   "name": "python3"
  },
  "language_info": {
   "codemirror_mode": {
    "name": "ipython",
    "version": 3
   },
   "file_extension": ".py",
   "mimetype": "text/x-python",
   "name": "python",
   "nbconvert_exporter": "python",
   "pygments_lexer": "ipython3",
   "version": "3.9.6"
  },
  "vscode": {
   "interpreter": {
    "hash": "b0fa6594d8f4cbf19f97940f81e996739fb7646882a419484c72d19e05852a7e"
   }
  }
 },
 "nbformat": 4,
 "nbformat_minor": 4
}
