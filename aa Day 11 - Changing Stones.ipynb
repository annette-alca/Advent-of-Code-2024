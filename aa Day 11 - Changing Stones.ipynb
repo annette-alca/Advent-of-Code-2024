{
 "cells": [
  {
   "cell_type": "code",
   "execution_count": null,
   "metadata": {},
   "outputs": [],
   "source": [
    "#Annette Alca\n",
    "#Advent of Code 2024\n",
    "#Day 11 \n",
    "#Changing Stones"
   ]
  },
  {
   "cell_type": "code",
   "execution_count": 55,
   "metadata": {},
   "outputs": [],
   "source": [
    "#Part1 and 2 functions\n",
    "\n",
    "\n",
    "def changeStones(num):\n",
    "    '''change stones as defined in AoC'''\n",
    "    text = str(num)\n",
    "    if text == '0':\n",
    "        new = [1]\n",
    "    elif len(text)%2==0:\n",
    "        ihalf = len(text)//2\n",
    "        new = [int(text[:ihalf]),int(text[ihalf:])]\n",
    "    else:\n",
    "        new = [2024*int(text)]\n",
    "    return new\n",
    "\n",
    "\n",
    "#use dictionary to keep track of same repeating stones to make transformation faster\n",
    "\n",
    "def blinkD (numD):\n",
    "    '''same as blinky but using a dictionary for repeated values so they dont need doing repeatedly'''\n",
    "    numDafter = {}\n",
    "    for num in numD:\n",
    "        tempL = changeStones(num)\n",
    "        for tempnum in tempL:\n",
    "            if tempnum not in numDafter:\n",
    "                numDafter[tempnum] = numD[num]\n",
    "            else:\n",
    "                numDafter[tempnum] = numDafter[tempnum] + numD[num]\n",
    "                \n",
    "    return numDafter\n",
    "\n",
    "def strToNumD(textStr):\n",
    "    '''starting dictionary of integers and their occurences from string'''\n",
    "    numD = {}\n",
    "    strL = textStr.split(' ')\n",
    "    for numStr in strL:\n",
    "        num = int(numStr)\n",
    "        if num not in numD:\n",
    "            numD[num] = 1\n",
    "        else:\n",
    "            numD[num] = numD[num] + 1\n",
    "    return numD\n"
   ]
  },
  {
   "cell_type": "code",
   "execution_count": 56,
   "metadata": {},
   "outputs": [
    {
     "name": "stdout",
     "output_type": "stream",
     "text": [
      "Sample after 25 times has 55312 stones.\n"
     ]
    }
   ],
   "source": [
    "#test with sample:\n",
    "sample = '125 17'\n",
    "blinks = 25\n",
    "numD = strToNumD(sample)\n",
    "\n",
    "\n",
    "for i in range(blinks):\n",
    "    numD = blinkD(numD)\n",
    "\n",
    "#print (i+1,'times',len(numL))\n",
    "totalstones = 0\n",
    "for num in numD:\n",
    "    totalstones += numD[num]\n",
    "\n",
    "print(f'Sample after {i+1} times has {totalstones} stones.')\n"
   ]
  },
  {
   "cell_type": "code",
   "execution_count": 60,
   "metadata": {},
   "outputs": [
    {
     "name": "stdout",
     "output_type": "stream",
     "text": [
      "Sample after 25 times has 217812 stones.\n"
     ]
    }
   ],
   "source": [
    "#Part1\n",
    "input = '510613 358 84 40702 4373582 2 0 1584'\n",
    "\n",
    "blinks = 25\n",
    "numD = strToNumD(input)\n",
    "\n",
    "for i in range(blinks):\n",
    "    numD = blinkD(numD)\n",
    "\n",
    "#print (i+1,'times',len(numL))\n",
    "totalstones = 0\n",
    "for num in numD:\n",
    "    totalstones += numD[num]\n",
    "\n",
    "print(f'Sample after {i+1} times has {totalstones} stones.')"
   ]
  },
  {
   "cell_type": "code",
   "execution_count": 61,
   "metadata": {},
   "outputs": [
    {
     "name": "stdout",
     "output_type": "stream",
     "text": [
      "Sample after 75 times has 259112729857522 stones.\n",
      "total seconds 0.13584303855895996\n"
     ]
    }
   ],
   "source": [
    "#Part2\n",
    "#start from numL above\n",
    "\n",
    "import time\n",
    "start = time.time()\n",
    "\n",
    "blinks = 50 # = 75-25 which is the starting point from Part1\n",
    "numD #value from Part1\n",
    "\n",
    "for i in range(blinks):\n",
    "    numD = blinkD(numD)\n",
    "\n",
    "#print (i+1,'times',len(numL))\n",
    "totalstones = 0\n",
    "for num in numD:\n",
    "    totalstones += numD[num]\n",
    "\n",
    "print(f'Sample after {i+1+25} times has {totalstones} stones.')\n",
    "print('total seconds', time.time()-start)"
   ]
  },
  {
   "cell_type": "code",
   "execution_count": null,
   "metadata": {},
   "outputs": [],
   "source": []
  }
 ],
 "metadata": {
  "kernelspec": {
   "display_name": "Python 3",
   "language": "python",
   "name": "python3"
  },
  "language_info": {
   "codemirror_mode": {
    "name": "ipython",
    "version": 3
   },
   "file_extension": ".py",
   "mimetype": "text/x-python",
   "name": "python",
   "nbconvert_exporter": "python",
   "pygments_lexer": "ipython3",
   "version": "3.8.5"
  }
 },
 "nbformat": 4,
 "nbformat_minor": 4
}
