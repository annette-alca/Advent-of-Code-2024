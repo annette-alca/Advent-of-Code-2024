{
 "cells": [
  {
   "cell_type": "code",
   "execution_count": 1,
   "metadata": {},
   "outputs": [],
   "source": [
    "#Annette Alca\n",
    "#Advent of Code\n",
    "#Day2"
   ]
  },
  {
   "cell_type": "code",
   "execution_count": 59,
   "metadata": {},
   "outputs": [],
   "source": [
    "import numpy as np"
   ]
  },
  {
   "cell_type": "code",
   "execution_count": 36,
   "metadata": {},
   "outputs": [],
   "source": [
    "def safetest (numarr,ascendstat):\n",
    "    '''numarr : array of numbers\n",
    "    ascendstat : True for ascending numbers    \n",
    "    returns True if safe'''\n",
    "    \n",
    "    if not ascendstat:\n",
    "        numarr = -1*numarr\n",
    "    for i in range(1,len(numarr)):\n",
    "        diff = numarr[i]-numarr[i-1]\n",
    "        if diff < 1:\n",
    "            return False\n",
    "        elif diff > 3:\n",
    "            return False\n",
    "    return True\n",
    "\n"
   ]
  },
  {
   "cell_type": "code",
   "execution_count": 18,
   "metadata": {
    "scrolled": false
   },
   "outputs": [],
   "source": [
    "file = open('Day2 input.txt','r')\n",
    "lines = file.readlines()\n",
    "file.close()\n"
   ]
  },
  {
   "cell_type": "code",
   "execution_count": 61,
   "metadata": {},
   "outputs": [
    {
     "data": {
      "text/plain": [
       "269"
      ]
     },
     "execution_count": 61,
     "metadata": {},
     "output_type": "execute_result"
    }
   ],
   "source": [
    "# Part 1 \n",
    "safecount = 0\n",
    "for l in lines:\n",
    "    l = l.replace('\\n','')\n",
    "    nums = l.split(' ')\n",
    "    numL = []\n",
    "    for n in nums:\n",
    "        numL.append(int(n))\n",
    "    numarr = np.array(numL)\n",
    "    \n",
    "    if safetest(numarr,True) or safetest (numarr,False): #test in ascending or descending\n",
    "        safecount +=1\n",
    "            \n",
    "safecount"
   ]
  },
  {
   "cell_type": "code",
   "execution_count": 62,
   "metadata": {},
   "outputs": [
    {
     "data": {
      "text/plain": [
       "337"
      ]
     },
     "execution_count": 62,
     "metadata": {},
     "output_type": "execute_result"
    }
   ],
   "source": [
    "#Part 2\n",
    "safecount = 0\n",
    "for l in lines:\n",
    "    l = l.replace('\\n','')\n",
    "    nums = l.split(' ')\n",
    "    numL = []\n",
    "    for n in nums:\n",
    "        numL.append(int(n))\n",
    "    numarr = np.array(numL)\n",
    "    \n",
    "\n",
    "    for ind in range(len(numarr)): #loop through numbers, removing each one from array\n",
    "        numarr2 = np.delete(numarr,ind) \n",
    "\n",
    "        if safetest(numarr2, True) or safetest(numarr2,False): #test both in ascending and descending\n",
    "            safecount +=1 #count as safe if test \n",
    "            break\n",
    "\n",
    "        \n",
    "            \n",
    "safecount"
   ]
  },
  {
   "cell_type": "code",
   "execution_count": null,
   "metadata": {},
   "outputs": [],
   "source": []
  }
 ],
 "metadata": {
  "kernelspec": {
   "display_name": "Python 3",
   "language": "python",
   "name": "python3"
  },
  "language_info": {
   "codemirror_mode": {
    "name": "ipython",
    "version": 3
   },
   "file_extension": ".py",
   "mimetype": "text/x-python",
   "name": "python",
   "nbconvert_exporter": "python",
   "pygments_lexer": "ipython3",
   "version": "3.8.5"
  }
 },
 "nbformat": 4,
 "nbformat_minor": 4
}
