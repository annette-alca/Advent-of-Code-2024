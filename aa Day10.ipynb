{
 "cells": [
  {
   "cell_type": "code",
   "execution_count": null,
   "metadata": {},
   "outputs": [],
   "source": [
    "#Annette Alca\n",
    "#Advent of Code 2024\n",
    "#Day 10"
   ]
  },
  {
   "cell_type": "code",
   "execution_count": 5,
   "metadata": {},
   "outputs": [],
   "source": [
    "#open input\n",
    "sample = ['89010123',\n",
    "'78121874',\n",
    "'87430965',\n",
    "'96549874',\n",
    "'45678903',\n",
    "'32019012',\n",
    "'01329801',\n",
    "'10456732']"
   ]
  },
  {
   "cell_type": "code",
   "execution_count": 43,
   "metadata": {
    "scrolled": true
   },
   "outputs": [
    {
     "data": {
      "text/plain": [
       "['89010123',\n",
       " '78121874',\n",
       " '87430965',\n",
       " '96549874',\n",
       " '45678903',\n",
       " '32019012',\n",
       " '01329801',\n",
       " '10456732']"
      ]
     },
     "execution_count": 43,
     "metadata": {},
     "output_type": "execute_result"
    }
   ],
   "source": [
    "sample"
   ]
  },
  {
   "cell_type": "code",
   "execution_count": 121,
   "metadata": {},
   "outputs": [
    {
     "data": {
      "text/plain": [
       "['0987667654101034989654101432348985610123',\n",
       " '1296558983290125678723296541201276765434',\n",
       " '2345054321785678732012387890320345896521',\n",
       " '3432169100634019141003456345410450787010',\n",
       " '6589078234521121056934321256521061071012']"
      ]
     },
     "execution_count": 121,
     "metadata": {},
     "output_type": "execute_result"
    }
   ],
   "source": [
    "#open file\n",
    "fileN = 'Day10 input.txt'\n",
    "\n",
    "file = open(fileN,'r')\n",
    "lines = file.read().splitlines()\n",
    "lines[:5]"
   ]
  },
  {
   "cell_type": "code",
   "execution_count": 129,
   "metadata": {},
   "outputs": [],
   "source": [
    "matrix = lines.copy()\n",
    "maxrow = len(matrix)\n",
    "maxcol = len(matrix[0])\n",
    "\n",
    "\n",
    "\n",
    "def minesweep (origcoords,value):\n",
    "    '''value in row,col\n",
    "    row,col : coordinates in matrix\n",
    "    returns True if value going up in cells around original value, with diagonal steps'''\n",
    "    global matrix, maxrow, maxcol\n",
    "    \n",
    "    trailtot = 0 #trails going on from here\n",
    "    trailcoords = [] #coordinates of next steps \n",
    "    \n",
    "    for row,col in origcoords:\n",
    "        \n",
    "        for rowval in [row-1,row, row+1]:\n",
    "            if rowval>=0 and rowval<maxrow:\n",
    "                for colval in [col-1,col, col+1]:\n",
    "                    if colval>=0 and colval <maxcol:\n",
    "                        if matrix[rowval][colval] == str(value + 1):\n",
    "                            trailtot +=1\n",
    "                            trailcoords.append([rowval,colval])\n",
    "\n",
    "        print(value+1, end = ' ')\n",
    "\n",
    "        return (trailtot,trailcoords,value+1)\n",
    "    \n",
    "def crossSweep (origcoords,value):\n",
    "    '''value in row,col\n",
    "    row,col : coordinates in matrix\n",
    "    returns next step up coordinates'''\n",
    "    global matrix, maxrow, maxcol\n",
    "    \n",
    "    trailtot = 0 #trails going on from here\n",
    "    trailcoords = [] #coordinates of next steps \n",
    "    \n",
    "    for row,col in origcoords:        \n",
    "        for rowval in [row-1, row+1]: #up down\n",
    "            if rowval>=0 and rowval<maxrow:\n",
    "                if matrix[rowval][col] == str(value + 1):\n",
    "                    if [rowval,col] not in trailcoords: #only unique\n",
    "                        trailcoords.append([rowval,col])\n",
    "                        trailtot+=1\n",
    "        for colval in [col-1, col+1]: #left right\n",
    "            if colval>=0 and colval <maxcol:\n",
    "                if matrix[row][colval] == str(value + 1): #only unique\n",
    "                    if [row,colval] not in trailcoords:\n",
    "                        trailtot +=1\n",
    "                        trailcoords.append([row,colval])\n",
    "                    \n",
    "#     if trailtot==0:\n",
    "#         print('no more trails at',value+1)\n",
    "#     print(value+1, 'live are', trailtot, end = '; ')\n",
    "\n",
    "    return (trailtot,trailcoords,value+1)\n",
    "\n",
    "def crossSweep2 (origcoords,value):\n",
    "    '''for part2, remove unique part'''\n",
    "    '''value in row,col\n",
    "    row,col : coordinates in matrix\n",
    "    returns next step up coordinates'''\n",
    "    global matrix, maxrow, maxcol\n",
    "    \n",
    "    trailtot = 0 #trails going on from here\n",
    "    trailcoords = [] #coordinates of next steps \n",
    "    \n",
    "    for row,col in origcoords:        \n",
    "        for rowval in [row-1, row+1]: #up down\n",
    "            if rowval>=0 and rowval<maxrow:\n",
    "                if matrix[rowval][col] == str(value + 1):\n",
    "                    #if [rowval,col] not in trailcoords: #only unique\n",
    "                    trailcoords.append([rowval,col])\n",
    "                    trailtot+=1\n",
    "        for colval in [col-1, col+1]: #left right\n",
    "            if colval>=0 and colval <maxcol:\n",
    "                if matrix[row][colval] == str(value + 1): #only unique\n",
    "                    #if [row,colval] not in trailcoords:\n",
    "                    trailtot +=1\n",
    "                    trailcoords.append([row,colval])\n",
    "    return (trailtot,trailcoords,value+1)\n",
    "\n",
    "def findstarts ():\n",
    "    global matrix, maxrow, maxcol\n",
    "    \n",
    "    starttot = 0\n",
    "    startcoords = []\n",
    "    for row in range(maxrow):\n",
    "        for col in range(maxcol):\n",
    "            if matrix[row][col]=='0':\n",
    "                starttot +=1\n",
    "                startcoords.append([row,col])\n",
    "    return (starttot,startcoords)"
   ]
  },
  {
   "cell_type": "code",
   "execution_count": 131,
   "metadata": {},
   "outputs": [
    {
     "name": "stdout",
     "output_type": "stream",
     "text": [
      "Part1: 430\n"
     ]
    }
   ],
   "source": [
    "#Part1\n",
    "\n",
    "trailtot,trailcoords = findstarts() #get coordinates of all spots with zero\n",
    "\n",
    "totlivetrails = 0\n",
    "for t in trailcoords:\n",
    "    val = 0\n",
    "    livetrails = 1\n",
    "    livecoords = [t]\n",
    "  #  print('new',livecoords, val)\n",
    "    while livetrails>0: #and val<10:\n",
    "        livetrails, livecoords, val = crossSweep(livecoords,val)\n",
    "        if val==9:\n",
    "            #uniquelive = set(livecoords)\n",
    "            totlivetrails += livetrails\n",
    "            #print('livetrails',livetrails,'tot',totlivetrails)\n",
    "            break\n",
    "            \n",
    "print('Part1:',totlivetrails)"
   ]
  },
  {
   "cell_type": "code",
   "execution_count": 130,
   "metadata": {},
   "outputs": [
    {
     "name": "stdout",
     "output_type": "stream",
     "text": [
      "Part2: 928\n"
     ]
    }
   ],
   "source": [
    "#Part2\n",
    "totlivetrails = 0\n",
    "for t in trailcoords:\n",
    "    val = 0\n",
    "    livetrails = 1\n",
    "    livecoords = [t]\n",
    "  #  print('new',livecoords, val)\n",
    "    while livetrails>0: #and val<10:\n",
    "        livetrails, livecoords, val = crossSweep2(livecoords,val)\n",
    "        if val==9:\n",
    "            #uniquelive = set(livecoords)\n",
    "            totlivetrails += livetrails\n",
    "            #print('livetrails',livetrails,'tot',totlivetrails)\n",
    "            break\n",
    "            \n",
    "print('Part2:',totlivetrails)"
   ]
  },
  {
   "cell_type": "code",
   "execution_count": null,
   "metadata": {},
   "outputs": [],
   "source": []
  }
 ],
 "metadata": {
  "kernelspec": {
   "display_name": "Python 3",
   "language": "python",
   "name": "python3"
  },
  "language_info": {
   "codemirror_mode": {
    "name": "ipython",
    "version": 3
   },
   "file_extension": ".py",
   "mimetype": "text/x-python",
   "name": "python",
   "nbconvert_exporter": "python",
   "pygments_lexer": "ipython3",
   "version": "3.8.5"
  }
 },
 "nbformat": 4,
 "nbformat_minor": 4
}
