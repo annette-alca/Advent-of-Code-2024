{
 "cells": [
  {
   "cell_type": "code",
   "execution_count": 1,
   "metadata": {},
   "outputs": [],
   "source": [
    "#Annette Alca\n",
    "#Advent of Code 2024\n",
    "#Day 6"
   ]
  },
  {
   "cell_type": "code",
   "execution_count": 213,
   "metadata": {},
   "outputs": [],
   "source": [
    "import time"
   ]
  },
  {
   "cell_type": "code",
   "execution_count": 214,
   "metadata": {},
   "outputs": [
    {
     "data": {
      "text/plain": [
       "['......#...........#..............................#..............................#...........................##...............#....\\n',\n",
       " '.............#..............#........#......##...................................................#............##...#..........#...\\n',\n",
       " '...#..................#..............#.........#...#.........................................................................#..#.\\n',\n",
       " '.....#..........#...................#.....................#..........#...........#......#..#...................#..................\\n',\n",
       " '...#...............................................##..................#............#.....#...................#...................\\n',\n",
       " '.#.#..#...................#.##.................#..........#................................#......#.........##..................#.\\n',\n",
       " '....................#...................#....#.........#....................#....................................................#\\n',\n",
       " '..........#......#...................................................................................................#....#.......\\n',\n",
       " '.#...............#.........#...........#...............#...................#......#...............................................\\n',\n",
       " '............#...........#........#..##.......#........#.....#................................##...................................\\n']"
      ]
     },
     "execution_count": 214,
     "metadata": {},
     "output_type": "execute_result"
    }
   ],
   "source": [
    "#get input\n",
    "\n",
    "fileN = 'Day6 input.txt'\n",
    "file = open(fileN,'r')\n",
    "lines = file.readlines()\n",
    "file.close()\n",
    "lines[:10]"
   ]
  },
  {
   "cell_type": "code",
   "execution_count": 237,
   "metadata": {},
   "outputs": [
    {
     "name": "stdout",
     "output_type": "stream",
     "text": [
      "130 130\n"
     ]
    }
   ],
   "source": [
    "# get matrix\n",
    "\n",
    "mtx = [] \n",
    "\n",
    "for l in lines:\n",
    "    mtx.append(l.strip())\n",
    "\n",
    "maxrow = len(mtx)\n",
    "maxcol = len(mtx[0])\n",
    "\n",
    "print(maxrow,maxcol)"
   ]
  },
  {
   "cell_type": "code",
   "execution_count": 238,
   "metadata": {},
   "outputs": [],
   "source": [
    "#dictionary of the [next turn direction,row effect, col effect,limit]\n",
    "turns = {'up':['right',-1,0,-1],\n",
    "         'right':['down',0,1,maxcol],\n",
    "         'down':['left',1,0,maxrow],\n",
    "         'left':['up',0,-1,-1]}\n",
    "\n",
    "\n",
    "def countSteps(row,col,direc):\n",
    "    '''row, col are integer positions\n",
    "    direc is direction: up, down, left, right\n",
    "    returns 4 values: newrow,newcol,new direction, number of steps until next obstacle and new direction\n",
    "    if end of matrix reached, new direction is \"done\" '''\n",
    "    \n",
    "    global mtx, maxcol, maxrow, turns\n",
    "    \n",
    "    assert direc in ['up', 'right', 'down', 'left'], 'Check direction and reenter please.'\n",
    "    \n",
    "    steps = 0\n",
    "    newdirec = turns[direc][0]\n",
    "    rowchange = turns[direc][1]\n",
    "    colchange = turns[direc][2]\n",
    "    limit = turns[direc][3]\n",
    "    \n",
    "    if colchange==0: #same column, direc is up or down\n",
    "        for newrow in range(row+rowchange,limit,rowchange):\n",
    "            new = mtx[newrow][col]\n",
    "            if new == '.': #replacing '.' with 'X' below, adding 1 position\n",
    "                rowstring=mtx[newrow][:col]+'X'+mtx[newrow][col+1:] \n",
    "                mtx[newrow]=rowstring\n",
    "                steps +=1\n",
    "\n",
    "            elif new == '#':  #stop and turn\n",
    "                return [newrow-rowchange,col,newdirec,steps] #if block encountered\n",
    " \n",
    "        return [newrow,col,'done',steps] #if out of matrix\n",
    "    \n",
    "    else: #same row, direc is left or right\n",
    "        for newcol in range(col+colchange,limit,colchange):\n",
    "            new = mtx[row][newcol]\n",
    "            if new == '.':  #replacing '.' with 'X' below, adding 1 position\n",
    "                rowstring=mtx[row][:newcol]+'X'+mtx[row][newcol+1:] \n",
    "                mtx[row]=rowstring\n",
    "                steps +=1\n",
    "\n",
    "            elif new == '#': #stop and turn\n",
    "                return [row,newcol-colchange,newdirec,steps] #if block encountered\n",
    "\n",
    "        return [row,newcol,'done',steps] #if out of matrix\n",
    "    \n",
    "        "
   ]
  },
  {
   "cell_type": "code",
   "execution_count": 239,
   "metadata": {},
   "outputs": [
    {
     "name": "stdout",
     "output_type": "stream",
     "text": [
      "exited matrix\n",
      "4454\n",
      "--- 0.006059885025024414 seconds ---\n"
     ]
    }
   ],
   "source": [
    "#Part 1\n",
    "start = time.time()\n",
    "\n",
    "totalsteps = 1\n",
    "totalturns = 0\n",
    "\n",
    "#find coordinates of ^ for start\n",
    "\n",
    "for m in mtx:\n",
    "    if '^' in m:\n",
    "        row = mtx.index(m)\n",
    "        col = m.index('^')\n",
    "        direc = 'up'\n",
    "        #print('orig:',row,col,'0',totalsteps)\n",
    "        #print(direc,end=': ')\n",
    "\n",
    "\n",
    "#tracking, counting totalsteps        \n",
    "        \n",
    "while direc != 'done':\n",
    "    totalturns +=1\n",
    "    row,col,direc,steps = countTurn(row,col,direc)\n",
    "    totalsteps += steps\n",
    "    #print(row,col,steps,totalsteps)\n",
    "    #print(direc,end=': ')\n",
    "    \n",
    "print(totalsteps)\n",
    "print(\"--- %s seconds ---\" % (time.time() - start))\n"
   ]
  },
  {
   "cell_type": "code",
   "execution_count": 235,
   "metadata": {},
   "outputs": [
    {
     "data": {
      "text/plain": [
       "133"
      ]
     },
     "execution_count": 235,
     "metadata": {},
     "output_type": "execute_result"
    }
   ],
   "source": [
    "#number of turns before exiting\n",
    "totalturns"
   ]
  },
  {
   "cell_type": "code",
   "execution_count": 240,
   "metadata": {},
   "outputs": [
    {
     "data": {
      "text/plain": [
       "['......#...........#..............................#..............................#...........................##...............#....',\n",
       " '.............#..............#........#......##...................................................#............##...#..........#...',\n",
       " '...#..................#..............#.........#...#.........................................................................#..#.',\n",
       " '.....#..........#...................#.....................#..........#...........#......#..#...................#..................',\n",
       " '...#...............................................##..................#............#.....#...................#...................']"
      ]
     },
     "execution_count": 240,
     "metadata": {},
     "output_type": "execute_result"
    }
   ],
   "source": [
    "#generate original sample matrix\n",
    "\n",
    "dtx = mtx.copy() # where all 'X' marked\n",
    "\n",
    "origmtx = [] #generate original mtx with no 'X', just '.'\n",
    "for t in dtx:\n",
    "    origmtx.append(t.replace('X','.'))\n",
    "origmtx[:5]\n"
   ]
  },
  {
   "cell_type": "code",
   "execution_count": 241,
   "metadata": {},
   "outputs": [
    {
     "data": {
      "text/plain": [
       "4453"
      ]
     },
     "execution_count": 241,
     "metadata": {},
     "output_type": "execute_result"
    }
   ],
   "source": [
    "#Part2\n",
    "#New obstacles can only be in travelled path, spots marked with 'X' in dtx\n",
    "#get matrix positions with X\n",
    "\n",
    "Xspots = []\n",
    "\n",
    "for row in range(maxrow):\n",
    "    if 'X' in dtx[row]:\n",
    "        for col in range(maxcol):\n",
    "            if dtx[row][col] == 'X':\n",
    "                Xspots.append([row,col])\n",
    "                \n",
    "len(Xspots)"
   ]
  },
  {
   "cell_type": "code",
   "execution_count": 246,
   "metadata": {
    "scrolled": false
   },
   "outputs": [
    {
     "name": "stdout",
     "output_type": "stream",
     "text": [
      "Starting point: 45 42 up\n",
      "Part2 Answer =  1503\n",
      "--- 4.691971063613892 seconds ---\n"
     ]
    }
   ],
   "source": [
    "#Part2\n",
    "\n",
    "\n",
    "#timing\n",
    "start = time.time()\n",
    "\n",
    "#find starting point\n",
    "for m in mtx:\n",
    "    if '^' in m:\n",
    "        rowstart = mtx.index(m)\n",
    "        colstart = m.index('^')\n",
    "        direcstart = 'up'\n",
    "        print('Starting point:',rowstart,colstart,direcstart)\n",
    "        #print(direc)\n",
    "\n",
    "\n",
    "#tracking, counting totalsteps       \n",
    "\n",
    "maxturns = 200 #original solution max 133 turns, so 200 is generous \n",
    "\n",
    "iloop_coords =  [] #list of coordinates where obstacle can be placed to create infinite loop for guard\n",
    "\n",
    "\n",
    "for coords in Xspots:\n",
    "    zerosteps=0\n",
    "    turns2=0\n",
    "    \n",
    "    #restore starting conditions\n",
    "    row = rowstart\n",
    "    col = colstart\n",
    "    direc = direcstart\n",
    "    \n",
    "    #create mtx with new obstacle\n",
    "    mtx = origmtx.copy()\n",
    "    testrow = coords[0]\n",
    "    testcol = coords [1]\n",
    "    rowstring=mtx[testrow][:testcol]+'#'+mtx[testrow][testcol+1:] #place obstacle at coordinates  \n",
    "    mtx[testrow]=rowstring #redo mtx with new obstacle\n",
    "    \n",
    "    while turns2<=maxturns and direc!='done' and zerosteps<15:\n",
    "        turns2 +=1\n",
    "        row,col,direc,steps = countSteps(row,col,direc)\n",
    "        if steps==0:\n",
    "            zerosteps +=1\n",
    "        else:\n",
    "            zerosteps = 0\n",
    "        if zerosteps>14 and coords not in iloop_coords: #the guard is now in a loop taking 14 turns and tracking spots they have been to\n",
    "            iloop_coords.append(coords)\n",
    "            continue\n",
    "    #print(coords,zerosteps,turns2)\n",
    "    #print(mtx)\n",
    "\n",
    "print('Part2 Answer = ',len(iloop_coords))\n",
    "print(\"--- %s seconds ---\" % (time.time() - start))"
   ]
  },
  {
   "cell_type": "code",
   "execution_count": null,
   "metadata": {},
   "outputs": [],
   "source": []
  }
 ],
 "metadata": {
  "kernelspec": {
   "display_name": "Python 3",
   "language": "python",
   "name": "python3"
  },
  "language_info": {
   "codemirror_mode": {
    "name": "ipython",
    "version": 3
   },
   "file_extension": ".py",
   "mimetype": "text/x-python",
   "name": "python",
   "nbconvert_exporter": "python",
   "pygments_lexer": "ipython3",
   "version": "3.8.5"
  }
 },
 "nbformat": 4,
 "nbformat_minor": 4
}
