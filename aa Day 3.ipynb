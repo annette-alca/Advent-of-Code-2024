{
 "cells": [
  {
   "cell_type": "code",
   "execution_count": 1,
   "metadata": {},
   "outputs": [],
   "source": [
    "#Annette Alca\n",
    "#Advent of Code\n",
    "#Day3"
   ]
  },
  {
   "cell_type": "code",
   "execution_count": 1,
   "metadata": {},
   "outputs": [],
   "source": [
    "import numpy as np"
   ]
  },
  {
   "cell_type": "code",
   "execution_count": 4,
   "metadata": {
    "scrolled": false
   },
   "outputs": [],
   "source": [
    "file = open('Day 3 input.txt','r')\n",
    "lines = file.readlines()\n",
    "file.close()\n"
   ]
  },
  {
   "cell_type": "code",
   "execution_count": 64,
   "metadata": {},
   "outputs": [
    {
     "data": {
      "text/plain": [
       "20156"
      ]
     },
     "execution_count": 64,
     "metadata": {},
     "output_type": "execute_result"
    }
   ],
   "source": [
    "#create long text\n",
    "text = ''\n",
    "for l in lines:\n",
    "    l = l.replace('\\n','')\n",
    "    text +=l\n",
    "    \n",
    "len(text)"
   ]
  },
  {
   "cell_type": "code",
   "execution_count": 62,
   "metadata": {},
   "outputs": [],
   "source": [
    "def getFirstProduct (text):\n",
    "    '''gets first instance of multiple text and ()\n",
    "    returns product and remaining text'''\n",
    "    short1 = text[text.index('mul(')+4:]\n",
    "    short2 = short1[:short1.index(')')]\n",
    "    newtext = short1[len(short2):]\n",
    "    nums = short2.split(',')\n",
    "    #print(short2,nums)\n",
    "    try:\n",
    "        return [int(nums[0])*int(nums[1]), newtext]\n",
    "    except (TypeError,ValueError):\n",
    "        #print(short2)\n",
    "        #print(short2+ ' ' + newtext[:5])\n",
    "        return[0, short2+newtext]\n",
    "        "
   ]
  },
  {
   "cell_type": "code",
   "execution_count": 63,
   "metadata": {},
   "outputs": [
    {
     "data": {
      "text/plain": [
       "187833789"
      ]
     },
     "execution_count": 63,
     "metadata": {},
     "output_type": "execute_result"
    }
   ],
   "source": [
    "# Part 1\n",
    "sumOfPdts = 0\n",
    "counter = 0\n",
    "while 'mul(' in text:\n",
    "    pdt,text = getFirstProduct(text)\n",
    "    sumOfPdts += pdt\n",
    "    counter +=1\n",
    "sumOfPdts"
   ]
  },
  {
   "cell_type": "code",
   "execution_count": 76,
   "metadata": {},
   "outputs": [
    {
     "data": {
      "text/plain": [
       "791"
      ]
     },
     "execution_count": 76,
     "metadata": {},
     "output_type": "execute_result"
    }
   ],
   "source": [
    "counter"
   ]
  },
  {
   "cell_type": "code",
   "execution_count": 66,
   "metadata": {},
   "outputs": [],
   "source": [
    "#txt a copy of text\n",
    "txt = text"
   ]
  },
  {
   "cell_type": "code",
   "execution_count": 71,
   "metadata": {},
   "outputs": [
    {
     "data": {
      "text/plain": [
       "113"
      ]
     },
     "execution_count": 71,
     "metadata": {},
     "output_type": "execute_result"
    }
   ],
   "source": [
    "text.index(\"don't()\")"
   ]
  },
  {
   "cell_type": "code",
   "execution_count": 72,
   "metadata": {},
   "outputs": [
    {
     "data": {
      "text/plain": [
       "'do()?% mul(948,148)why() %how('"
      ]
     },
     "execution_count": 72,
     "metadata": {},
     "output_type": "execute_result"
    }
   ],
   "source": [
    "text = 'do()' + text\n",
    "text[:30]"
   ]
  },
  {
   "cell_type": "code",
   "execution_count": 98,
   "metadata": {},
   "outputs": [],
   "source": [
    "# Part 2\n",
    "# include do() and don't()\n",
    "def getEnabledText(text):\n",
    "    '''returns text between dos and donts'''\n",
    "    start = text.index (\"do()\")\n",
    "    try:\n",
    "        end = text.index(\"don't()\")+7\n",
    "    except ValueError: #if there is no don't\n",
    "        end = len(text)\n",
    "    enabled = text[start:end]\n",
    "    remainingText = text[end:]\n",
    "    return (enabled, remainingText)\n"
   ]
  },
  {
   "cell_type": "code",
   "execution_count": 99,
   "metadata": {},
   "outputs": [
    {
     "data": {
      "text/plain": [
       "94455185"
      ]
     },
     "execution_count": 99,
     "metadata": {},
     "output_type": "execute_result"
    }
   ],
   "source": [
    "remainingT = text\n",
    "sumOfPdts = 0\n",
    "counter = 0\n",
    "while 'do()' in remainingT:\n",
    "    enabledT, remainingT = getEnabledText(remainingT)\n",
    "    while 'mul(' in enabledT:\n",
    "        pdt,enabledT = getFirstProduct(enabledT)\n",
    "        sumOfPdts += pdt\n",
    "        counter +=1\n",
    "\n",
    "sumOfPdts    "
   ]
  },
  {
   "cell_type": "code",
   "execution_count": 102,
   "metadata": {},
   "outputs": [
    {
     "data": {
      "text/plain": [
       "390"
      ]
     },
     "execution_count": 102,
     "metadata": {},
     "output_type": "execute_result"
    }
   ],
   "source": [
    "counter"
   ]
  },
  {
   "cell_type": "code",
   "execution_count": null,
   "metadata": {},
   "outputs": [],
   "source": []
  }
 ],
 "metadata": {
  "kernelspec": {
   "display_name": "Python 3",
   "language": "python",
   "name": "python3"
  },
  "language_info": {
   "codemirror_mode": {
    "name": "ipython",
    "version": 3
   },
   "file_extension": ".py",
   "mimetype": "text/x-python",
   "name": "python",
   "nbconvert_exporter": "python",
   "pygments_lexer": "ipython3",
   "version": "3.8.5"
  }
 },
 "nbformat": 4,
 "nbformat_minor": 4
}
