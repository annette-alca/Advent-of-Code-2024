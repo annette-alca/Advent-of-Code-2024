{
 "cells": [
  {
   "cell_type": "code",
   "execution_count": 1,
   "metadata": {},
   "outputs": [],
   "source": [
    "#Annette Alca\n",
    "#Advent of Code 2024\n",
    "#Day 7"
   ]
  },
  {
   "cell_type": "code",
   "execution_count": 97,
   "metadata": {},
   "outputs": [],
   "source": [
    "import numpy as np\n",
    "import time"
   ]
  },
  {
   "cell_type": "code",
   "execution_count": 145,
   "metadata": {},
   "outputs": [
    {
     "data": {
      "text/plain": [
       "['5519591: 5 519 507 83\\n',\n",
       " '28956735990: 2 892 65 427 3 389\\n',\n",
       " '1325281: 995 826 828 5 7 8 1\\n',\n",
       " '215986656838: 545 8 9 604 20 82\\n',\n",
       " '5790512: 8 7 16 10 91 776\\n',\n",
       " '12246166: 2 41 72 4 30 3 722 23\\n',\n",
       " '22104: 35 604 8 1 431 520 4\\n',\n",
       " '4337: 471 53 7 8 91\\n',\n",
       " '23499: 6 1 434 7 9\\n',\n",
       " '1645: 4 1 41 5\\n']"
      ]
     },
     "execution_count": 145,
     "metadata": {},
     "output_type": "execute_result"
    }
   ],
   "source": [
    "#open file\n",
    "fileN = 'Day7 input.txt'\n",
    "\n",
    "file = open(fileN,'r')\n",
    "lines = file.readlines()\n",
    "file.close()\n",
    "lines[:10]"
   ]
  },
  {
   "cell_type": "code",
   "execution_count": 49,
   "metadata": {},
   "outputs": [],
   "source": [
    "def getNums(line): #get each line as a list of integers, result is last\n",
    "    '''input text from file\n",
    "    output result as integer and \n",
    "    operands as list of integers'''\n",
    "    l = line.strip()\n",
    "    l = l.replace(':','')\n",
    "    numSL = l.split(' ')\n",
    "    result = int(numSL[0])\n",
    "    numL = []\n",
    "\n",
    "    for numS in numSL[1:]:\n",
    "        numL.append(int(numS))\n",
    "    numL.append(result)\n",
    "    return numL\n",
    "\n",
    "def twoVals (arr1,num2): #array operation to get product and sum, array expands by factor of 2\n",
    "    '''return two possible values, use this to expand array'''\n",
    "    #newvals = np.array([arr1*num2,arr1+num2])\n",
    "    pdt = arr1 * num2\n",
    "    summ = arr1 + num2\n",
    "    newvals = np.concatenate((pdt,summ)) #joining arrays of products and sums\n",
    "    return newvals"
   ]
  },
  {
   "cell_type": "code",
   "execution_count": 159,
   "metadata": {},
   "outputs": [
    {
     "name": "stdout",
     "output_type": "stream",
     "text": [
      "2664460013123\n",
      "--- 0.05471205711364746 seconds ---\n"
     ]
    }
   ],
   "source": [
    "#Part1 Calc\n",
    "start = time.time()\n",
    "\n",
    "total = 0\n",
    "for l in lines:\n",
    "    testL = getNums(l)\n",
    "    result = testL[-1] #result is last value in list\n",
    "\n",
    "    currentval = np.array([testL[0]]) #starting value is first integer in list and is stored in a numpy array\n",
    "    \n",
    "    for i in range(len(testL)-2): #loop through list to do numpy op\n",
    "        num2 = testL[i+1]\n",
    "        currentval = twoVals(currentval,num2)\n",
    "        #currentval = currentval[currentval <= result]\n",
    "    \n",
    "    if result in currentval:\n",
    "      #  print(testL)\n",
    "        total += result\n",
    "\n",
    "print(total)\n",
    "print(\"--- %s seconds ---\" % (time.time() - start))\n",
    "\n",
    "    "
   ]
  },
  {
   "cell_type": "code",
   "execution_count": 150,
   "metadata": {},
   "outputs": [],
   "source": [
    "#Part 2 Function\n",
    "\n",
    "def threeVals (arr1,num2): #array operation to get product, sum, and concatenation. Array expands by factor of 3.\n",
    "    '''return three possible values, use this to expand'''\n",
    "    #newvals = np.array([arr1*num2,arr1+num2])\n",
    "    pdt = arr1 * num2\n",
    "    summ = arr1 + num2\n",
    "    \n",
    "    exponent = len(str(num2)) #find out how many decimal places num2 is\n",
    "    conc = (arr1*10**exponent) + num2  #concatenated value \n",
    "    \n",
    "    newvals = np.concatenate((pdt,summ,conc))\n",
    "    return newvals"
   ]
  },
  {
   "cell_type": "code",
   "execution_count": 162,
   "metadata": {},
   "outputs": [
    {
     "name": "stdout",
     "output_type": "stream",
     "text": [
      "426214131924213\n",
      "--- 0.08548593521118164 seconds ---\n"
     ]
    }
   ],
   "source": [
    "#Part2 Calc\n",
    "start = time.time()\n",
    "\n",
    "total = 0\n",
    "\n",
    "for l in lines:\n",
    "    testL = getNums(l)\n",
    "    result = testL[-1]\n",
    "\n",
    "    currentval = np.array([testL[0]]) #get first value\n",
    "    for i in range(len(testL)-2):\n",
    "        num2 = testL[i+1]\n",
    "        currentval = threeVals(currentval,num2) #update currentval by performing 3 operations in threeVals\n",
    "        #currentval = currentval[currentval <= result] #remove values over expected result, \n",
    "            #faster to remove above line\n",
    "\n",
    "    if result in currentval:\n",
    "        total += result\n",
    "\n",
    "print(total)\n",
    "print(\"--- %s seconds ---\" % (time.time() - start))\n"
   ]
  }
 ],
 "metadata": {
  "kernelspec": {
   "display_name": "Python 3",
   "language": "python",
   "name": "python3"
  },
  "language_info": {
   "codemirror_mode": {
    "name": "ipython",
    "version": 3
   },
   "file_extension": ".py",
   "mimetype": "text/x-python",
   "name": "python",
   "nbconvert_exporter": "python",
   "pygments_lexer": "ipython3",
   "version": "3.8.5"
  }
 },
 "nbformat": 4,
 "nbformat_minor": 4
}
