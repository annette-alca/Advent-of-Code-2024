{
 "cells": [
  {
   "cell_type": "code",
   "execution_count": 1,
   "metadata": {},
   "outputs": [],
   "source": [
    "#Annette Alca\n",
    "#Advent of Code 2024    \n",
    "#Day 25\n",
    "#Locks and Keys\n",
    "\n",
    "import numpy as np"
   ]
  },
  {
   "cell_type": "code",
   "execution_count": 42,
   "metadata": {},
   "outputs": [],
   "source": [
    "def barrelcount(startline,endline) -> dict:\n",
    "    '''returns dictionary of a single lock or key'''\n",
    "    global lines\n",
    "    lork = {0:0,1:0,2:0,3:0,4:0} #lock or key\n",
    "    for row in range(startline,endline):\n",
    "        for col in range(5):\n",
    "            if lines[row][col]== '#':\n",
    "                lork[col]+=1\n",
    "    return lork\n",
    "\n",
    "def barrelcountL(startline,endline) -> list:\n",
    "    '''returns list of a single lock or key, switch to list so it can be converted to an array'''\n",
    "    global lines\n",
    "    lorkD = barrelcount(startline,endline)\n",
    "    lorkL = []\n",
    "    for col in lorkD:\n",
    "        lorkL.append(lorkD[col])\n",
    "    \n",
    "    return lorkL"
   ]
  },
  {
   "cell_type": "code",
   "execution_count": 44,
   "metadata": {},
   "outputs": [
    {
     "name": "stdout",
     "output_type": "stream",
     "text": [
      "Numbers of locks and keys: 250 250\n",
      "Values of first lock and first key: [0 5 4 2 3] [1 5 0 5 2]\n"
     ]
    }
   ],
   "source": [
    "#Produce locks and keys as 2-D numpy arrays from text file\n",
    "\n",
    "#open text file and get data as list of lines\n",
    "fileN = 'Day25 input.txt'\n",
    "file = open(fileN,'r')\n",
    "lines = file.read().splitlines()\n",
    "\n",
    "#convert lines as 2-D numpy arrays of locks and keys\n",
    "locks = []\n",
    "keys = []\n",
    "\n",
    "for i in range(0,len(lines),8):\n",
    "    if lines[i] == '#####':\n",
    "        locks.append(barrelcountL(i+1,i+6))\n",
    "        \n",
    "    elif lines[i] == '.....':\n",
    "        keys.append(barrelcountL(i+1,i+6))\n",
    "\n",
    "locks = np.array(locks)\n",
    "keys = np.array(keys)\n",
    "\n",
    "#Check by printing out values\n",
    "print('Numbers of locks and keys:',len(locks), len(keys))\n",
    "print('Values of first lock and first key:',locks[0], keys[0])\n",
    "\n",
    "\n",
    "\n"
   ]
  },
  {
   "cell_type": "code",
   "execution_count": 45,
   "metadata": {},
   "outputs": [
    {
     "name": "stdout",
     "output_type": "stream",
     "text": [
      "Part 1, keys that fit locks: 2900\n"
     ]
    }
   ],
   "source": [
    "#Part1 calculation\n",
    "\n",
    "theyfit = 0\n",
    "\n",
    "for l in locks:\n",
    "    for k in keys:\n",
    "        if (l+k <= 5).all():\n",
    "            theyfit +=1\n",
    "            \n",
    "print(f'Part 1, keys that fit locks: {theyfit}') "
   ]
  }
 ],
 "metadata": {
  "kernelspec": {
   "display_name": "Python 3",
   "language": "python",
   "name": "python3"
  },
  "language_info": {
   "codemirror_mode": {
    "name": "ipython",
    "version": 3
   },
   "file_extension": ".py",
   "mimetype": "text/x-python",
   "name": "python",
   "nbconvert_exporter": "python",
   "pygments_lexer": "ipython3",
   "version": "3.8.5"
  },
  "vscode": {
   "interpreter": {
    "hash": "b0fa6594d8f4cbf19f97940f81e996739fb7646882a419484c72d19e05852a7e"
   }
  }
 },
 "nbformat": 4,
 "nbformat_minor": 2
}
