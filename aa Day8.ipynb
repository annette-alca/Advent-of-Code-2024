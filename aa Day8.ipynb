{
 "cells": [
  {
   "cell_type": "code",
   "execution_count": 1,
   "metadata": {},
   "outputs": [],
   "source": [
    "#Annette Alca\n",
    "#Advent of Code 2024\n",
    "#Day8"
   ]
  },
  {
   "cell_type": "code",
   "execution_count": 84,
   "metadata": {},
   "outputs": [
    {
     "data": {
      "text/plain": [
       "['...............e...........j6.....................\\n',\n",
       " '.....1...............................t.....i......\\n',\n",
       " '.....4.......3..............x..tL......m..........\\n',\n",
       " '.......L.....................Dxj..................\\n',\n",
       " '4....X..................F.....................m...\\n']"
      ]
     },
     "execution_count": 84,
     "metadata": {},
     "output_type": "execute_result"
    }
   ],
   "source": [
    "#open input file\n",
    "\n",
    "fileN = 'Day8 input.txt'\n",
    "\n",
    "file = open(fileN,'r')\n",
    "lines = file.readlines()\n",
    "file.close()\n",
    "\n",
    "lines[:5]"
   ]
  },
  {
   "cell_type": "code",
   "execution_count": 95,
   "metadata": {
    "scrolled": false
   },
   "outputs": [],
   "source": [
    "#create matrix and record antennae and their locations (i.e. that are not '.')\n",
    "\n",
    "mtx = []\n",
    "ants = {} #dictionarry of antennae and their location as [row,col]\n",
    "\n",
    "for row in range(len(lines)):\n",
    "    l=lines[row].strip()\n",
    "    mtx.append(l) #add line to matrix mtx\n",
    "    \n",
    "    for col in range(len(l)):\n",
    "        if l[col] != '.':\n",
    "            char = l[col]\n",
    "            if char not in ants: #create new key\n",
    "                ants[char] = [[row,col]]\n",
    "                \n",
    "            else: #add new coordinates to existing key\n",
    "                charL = ants[char] \n",
    "                charL.append([row,col])\n",
    "                ants[char] = charL\n"
   ]
  },
  {
   "cell_type": "code",
   "execution_count": 96,
   "metadata": {},
   "outputs": [],
   "source": [
    "maxrow = len(mtx)\n",
    "maxcol = len(mtx[0])\n",
    "\n",
    "def rowtest(row): #tests valid row value\n",
    "    global maxrow\n",
    "    return (row>=0 and row<maxrow)\n",
    "\n",
    "def coltest(col): #tests valid col value\n",
    "    global maxcol\n",
    "    return (col>=0 and col<maxcol)\n",
    "\n",
    "def getAN (coords):\n",
    "    '''coords : list of coordinates for one type of antennae\n",
    "    outputs antinodes : list of coordinates of antinodes, if within the matrix'''\n",
    "    \n",
    "    global mtx, maxrow, maxcol\n",
    "    antinodes = []\n",
    "    \n",
    "    for ii in range(len(coords)-1): #get each coordinate\n",
    "        for jj in range(ii+1,len(coords)): #pair with remaining coordinates\n",
    "            i = coords[ii]\n",
    "            j = coords[jj]\n",
    "            rowdist = j[0]-i[0] #distance in row between coordinates\n",
    "            coldist = j[1]-i[1] #distance in columns between coordinates\n",
    "            ani = [i[0]-rowdist,i[1]-coldist] #antinode closest to i\n",
    "            anj = [j[0]+rowdist,j[1]+coldist] #antinode closest to j\n",
    "\n",
    "            if rowtest(ani[0]) and coltest(ani[1]):\n",
    "                antinodes.append([ani])\n",
    "            if rowtest(anj[0]) and coltest(anj[1]):\n",
    "                antinodes.append([anj])\n",
    "            \n",
    "    return antinodes\n",
    "                "
   ]
  },
  {
   "cell_type": "code",
   "execution_count": 99,
   "metadata": {},
   "outputs": [
    {
     "name": "stdout",
     "output_type": "stream",
     "text": [
      "Part1 : 361\n"
     ]
    }
   ],
   "source": [
    "#Part1 Calculation\n",
    "\n",
    "allAntinodes = []\n",
    "\n",
    "for a in ants:\n",
    "    antenL = ants[a]\n",
    "    antinodes = getAN(antenL)\n",
    "    for an in antinodes:\n",
    "        if an not in allAntinodes:\n",
    "            allAntinodes.append(an)\n",
    "\n",
    "print('Part1 :',len(allAntinodes))"
   ]
  },
  {
   "cell_type": "code",
   "execution_count": 98,
   "metadata": {},
   "outputs": [],
   "source": [
    "#Part2\n",
    "#There is a new Antinode definition\n",
    "\n",
    "def simpleSlope (num1,num2): \n",
    "    '''simplify slope of line to get smallest vertical (rowdist) and horizontal (coldist) units\n",
    "    to mark every antinode'''\n",
    "    ab1 = abs(num1)\n",
    "    ab2 = abs(num2)\n",
    "    limit = min(ab1,ab2)\n",
    "    for i in range(limit,2,-1):\n",
    "        if (ab1/limit).is_integer() and (ab2/limit).is_integer(): #highest number that can be divided by either\n",
    "            return [num1/i,num2/i]\n",
    "        \n",
    "        \n",
    "    #if no simplified number found then return original\n",
    "    return (num1,num2)\n",
    "\n",
    "\n",
    "def unitSlope(rowdist,coldist):\n",
    "    '''uses simpleSlope function above unless (first 3 conditions)\n",
    "    - row change or col change is already 1 unit\n",
    "    - two points in horizontal line\n",
    "    - two points in vertical line\n",
    "    returns simplified rowdist and coldist'''\n",
    "    \n",
    "    if rowdist == 1 or coldist ==1: \n",
    "        return [rowdist,coldist]\n",
    "    elif rowdist == 0: #in horizontal line\n",
    "        return [0,1]\n",
    "    elif coldist == 0: #in vertical line\n",
    "        return [1,0]\n",
    "    else:\n",
    "        return simpleSlope(rowdist,coldist)\n",
    "    \n",
    "\n",
    "def getAN2 (coords):\n",
    "    '''coords : list of coordinates for one type of antennae\n",
    "    outputs antinodes : list of coordinates of antinodes, if within the matrix\n",
    "    follows rules of Part2'''\n",
    "    \n",
    "    global mtx, maxrow, maxcol\n",
    "    antinodes = []\n",
    "    \n",
    "    for ii in range(len(coords)-1):\n",
    "        for jj in range(ii+1,len(coords)):\n",
    "            i = coords[ii]\n",
    "            j = coords[jj]\n",
    "            rowdist = j[0]-i[0]\n",
    "            coldist = j[1]-i[1]\n",
    "            \n",
    "            rdist, cdist = unitSlope(rowdist, coldist)\n",
    "            \n",
    "            ani = i #start from first point get all points in line until bother\n",
    "            while rowtest(ani[0]) and coltest(ani[1]):\n",
    "                if ani not in antinodes:\n",
    "                    antinodes.append(ani)\n",
    "                ani = [ani[0]-rdist, ani[1]-cdist]\n",
    "            ani = i #start again from first point, get all points in line until other border\n",
    "            while rowtest(ani[0]) and coltest(ani[1]):\n",
    "                if ani not in antinodes:\n",
    "                    antinodes.append(ani)\n",
    "                ani = [ani[0]+rdist, ani[1]+cdist]\n",
    "            \n",
    "    return antinodes\n",
    "\n"
   ]
  },
  {
   "cell_type": "code",
   "execution_count": 100,
   "metadata": {},
   "outputs": [
    {
     "name": "stdout",
     "output_type": "stream",
     "text": [
      "Part2 : 1249\n"
     ]
    }
   ],
   "source": [
    "#Part2 calculation\n",
    "\n",
    "allAntinodes = []\n",
    "\n",
    "for a in ants:\n",
    "    antenL = ants[a]\n",
    "    antinodes = getAN2(antenL)\n",
    "    for an in antinodes:\n",
    "        if an not in allAntinodes:\n",
    "            allAntinodes.append(an)\n",
    "print('Part2 :',len(allAntinodes))"
   ]
  },
  {
   "cell_type": "code",
   "execution_count": null,
   "metadata": {},
   "outputs": [],
   "source": []
  }
 ],
 "metadata": {
  "kernelspec": {
   "display_name": "Python 3",
   "language": "python",
   "name": "python3"
  },
  "language_info": {
   "codemirror_mode": {
    "name": "ipython",
    "version": 3
   },
   "file_extension": ".py",
   "mimetype": "text/x-python",
   "name": "python",
   "nbconvert_exporter": "python",
   "pygments_lexer": "ipython3",
   "version": "3.8.5"
  }
 },
 "nbformat": 4,
 "nbformat_minor": 4
}
