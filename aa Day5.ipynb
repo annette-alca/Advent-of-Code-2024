{
 "cells": [
  {
   "cell_type": "code",
   "execution_count": 1,
   "metadata": {},
   "outputs": [],
   "source": [
    "#Annette Alca\n",
    "#Advent of Code\n",
    "#Day 5"
   ]
  },
  {
   "cell_type": "code",
   "execution_count": 70,
   "metadata": {},
   "outputs": [],
   "source": [
    "import time"
   ]
  },
  {
   "cell_type": "code",
   "execution_count": 43,
   "metadata": {},
   "outputs": [],
   "source": [
    "#open file\n",
    "filename = 'Day5 input.txt'\n",
    "\n",
    "file = open(filename,'r')\n",
    "lines = file.readlines()\n",
    "file.close()"
   ]
  },
  {
   "cell_type": "code",
   "execution_count": 44,
   "metadata": {},
   "outputs": [
    {
     "data": {
      "text/plain": [
       "['56,79,55,52,85,41,61,97,64,72,86,46,58,48,96,62,76,12,13',\n",
       " '16,95,77,51,17,49,33,56,97',\n",
       " '95,38,49,61,32,19,77,22,13,27,56',\n",
       " '84,22,89,64,45,79,34,85,72,96,48,55,29',\n",
       " '84,34,18,93,63,16,95,77,51,32,17,26,54,27,44,11,19,42,28,38,49,33,56',\n",
       " '79,72,96,45,76,58,64,46,55,84,86,63,22,52,18,93,85,31,47,41,29,89,81',\n",
       " '33,34,84,32,49,93,54,63,95,27,83,17,77,28,29,38,42,26,44,11,18',\n",
       " '34,18,93,63,83,95,51,32,26,27,11,19,42,28,49,33,56',\n",
       " '31,29,84,18,93,63,16,95,51,26,54,27,19,42,28,38,49',\n",
       " '31,55,13,22,84,47,72']"
      ]
     },
     "execution_count": 44,
     "metadata": {},
     "output_type": "execute_result"
    }
   ],
   "source": [
    "# get rules list as rules\n",
    "# get list of pages to print as pagetest\n",
    "rules = []\n",
    "pagetest = []\n",
    "\n",
    "for l in lines:\n",
    "    l = l.strip()\n",
    "    if '|' in l:\n",
    "        rule = l.split('|')\n",
    "        rules.append(rule)\n",
    "    elif ',' in l:\n",
    "        pagetest.append(l)\n",
    "pagetest[:10]"
   ]
  },
  {
   "cell_type": "code",
   "execution_count": 45,
   "metadata": {},
   "outputs": [
    {
     "data": {
      "text/plain": [
       "[['45', '19'],\n",
       " ['55', '17'],\n",
       " ['55', '38'],\n",
       " ['58', '41'],\n",
       " ['58', '46'],\n",
       " ['58', '72'],\n",
       " ['34', '56'],\n",
       " ['34', '63'],\n",
       " ['34', '83'],\n",
       " ['34', '33']]"
      ]
     },
     "execution_count": 45,
     "metadata": {},
     "output_type": "execute_result"
    }
   ],
   "source": [
    "rules[:10]"
   ]
  },
  {
   "cell_type": "code",
   "execution_count": 51,
   "metadata": {},
   "outputs": [],
   "source": [
    "#Part 1\n",
    "#test every page in pagetest individually\n",
    "\n",
    "def printTest (printSched):\n",
    "    '''printSched : list of pages to be printed\n",
    "    outputs True if test is passed'''\n",
    "    global rules\n",
    "\n",
    "    for i in range(len(printSched)): #index of page to be tested     \n",
    "\n",
    "        for j in range(i+1,len(printSched)): #index of page being compared to first\n",
    "            if i >= j: #same page or reached end, skip in loop\n",
    "                continue\n",
    "            else:\n",
    "                ip = printSched[i]\n",
    "                jp = printSched[j]\n",
    "#                 print('\\n',ip,jp)\n",
    "                for r in rules:\n",
    "        #                         print(r, end= ' ')\n",
    "                    if ip in r and jp in r:\n",
    "#                         print(r, end = ' ')\n",
    "                        if r[0] != ip:\n",
    "                            return False\n",
    "                        else:\n",
    "                            continue\n",
    "    return True"
   ]
  },
  {
   "cell_type": "code",
   "execution_count": 69,
   "metadata": {},
   "outputs": [
    {
     "name": "stdout",
     "output_type": "stream",
     "text": [
      "part1: 4185\n",
      "for part2, numer of lists = 91\n"
     ]
    }
   ],
   "source": [
    "#Part 1 checking and getting middle page\n",
    "total = 0\n",
    "failedPLs = [] #collect failed page lists for Part2\n",
    "\n",
    "for p in pagetest:\n",
    "    pL = p.split(',') #string to list\n",
    "    if printTest(pL): #lists that pass\n",
    "        middlepage = pL[(len(pL)-1)//2] \n",
    "#         print('pass')\n",
    "        total += int(middlepage)\n",
    "    else:\n",
    "        failedPLs.append(pL)\n",
    "print('part1:',total)\n",
    "print('for part2, numer of lists =', len(failedPLs))"
   ]
  },
  {
   "cell_type": "code",
   "execution_count": 77,
   "metadata": {},
   "outputs": [],
   "source": [
    "#Part 2, correcting wrong order of numbers\n",
    "\n",
    "\n",
    "def rearrSched (printSched):\n",
    "    '''printSched : list of pages to be printed\n",
    "    outputs correctSched: list of rearranged pages'''\n",
    "    global rules\n",
    "    correctSched = []\n",
    "    \n",
    "    for i in range(len(printSched)): #index of every item in list of pages to be printed\n",
    "        passTesti = True\n",
    "        for j in range(i+1,len(printSched)): #index of page being compared to first\n",
    "            if i >= j: #same page or reached end, skip in loop\n",
    "                continue\n",
    "            else:\n",
    "                ip = printSched[i]\n",
    "                jp = printSched[j]\n",
    "#                 print('\\n',ip,jp)\n",
    "                for r in rules:\n",
    "        #                         print(r, end= ' ')\n",
    "                    if ip in r and jp in r:\n",
    "#                         print(r, end = ' ')\n",
    "                        if r[0] != ip:\n",
    "                            passTesti = False\n",
    "                            correctSched.append(jp)\n",
    "                            correctSched.append(ip)\n",
    "                            for rest in range(i+1,len(printSched)):\n",
    "                                if rest<len(printSched) and rest != j:\n",
    "                                    correctSched.append(printSched[rest])\n",
    "                            return [False,correctSched]\n",
    "                        else:\n",
    "                            continue\n",
    "        if passTesti:\n",
    "            correctSched.append(ip)\n",
    "    return [True, correctSched]"
   ]
  },
  {
   "cell_type": "code",
   "execution_count": 79,
   "metadata": {},
   "outputs": [
    {
     "name": "stdout",
     "output_type": "stream",
     "text": [
      "total =  4480 \n",
      " number of page swaps made =  1117 \n",
      " number of page lists processed =  91\n",
      "--- 12.71989393234253 seconds ---\n"
     ]
    }
   ],
   "source": [
    "#Part2\n",
    "\n",
    "start_time = time.time()\n",
    "\n",
    "\n",
    "total2 = 0\n",
    "countPL = 0\n",
    "countCorrection = 0\n",
    "for f in failedPLs:\n",
    "    PL = f.copy()\n",
    "#    print(printTest(PL), end = ' ')\n",
    "    while not printTest(PL):\n",
    "#        print(countPL, printTest(PL), PL)\n",
    "        PL = rearrSched(PL)[1]\n",
    "        countCorrection +=1\n",
    "#    print(countPL, printTest(PL),' ',PL)\n",
    "    middlepage = PL[(len(PL)-1)//2] \n",
    "    total2 += int(middlepage)\n",
    "    countPL+=1\n",
    "    \n",
    "print('total = ',total2, '\\n number of page swaps made = ',countCorrection, '\\n number of page lists processed = ',countPL)\n",
    "print(\"--- %s seconds ---\" % (time.time() - start_time))"
   ]
  },
  {
   "cell_type": "code",
   "execution_count": 67,
   "metadata": {},
   "outputs": [
    {
     "data": {
      "text/plain": [
       "4480"
      ]
     },
     "execution_count": 67,
     "metadata": {},
     "output_type": "execute_result"
    }
   ],
   "source": [
    "total2"
   ]
  },
  {
   "cell_type": "code",
   "execution_count": null,
   "metadata": {},
   "outputs": [],
   "source": []
  }
 ],
 "metadata": {
  "kernelspec": {
   "display_name": "Python 3",
   "language": "python",
   "name": "python3"
  },
  "language_info": {
   "codemirror_mode": {
    "name": "ipython",
    "version": 3
   },
   "file_extension": ".py",
   "mimetype": "text/x-python",
   "name": "python",
   "nbconvert_exporter": "python",
   "pygments_lexer": "ipython3",
   "version": "3.8.5"
  }
 },
 "nbformat": 4,
 "nbformat_minor": 4
}
