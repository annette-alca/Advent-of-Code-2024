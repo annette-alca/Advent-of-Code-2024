{
 "cells": [
  {
   "cell_type": "code",
   "execution_count": 1,
   "metadata": {},
   "outputs": [],
   "source": [
    "#Annette Alca\n",
    "#Advent of Code 2024\n",
    "#Day4"
   ]
  },
  {
   "cell_type": "code",
   "execution_count": 2,
   "metadata": {},
   "outputs": [],
   "source": [
    "import pandas as pd"
   ]
  },
  {
   "cell_type": "code",
   "execution_count": 48,
   "metadata": {},
   "outputs": [
    {
     "data": {
      "text/plain": [
       "['AAMXMASASMXSAMXXSAMSAMXXSXMMSMMSXSASXSXSSSXSAMXXXSXMASXMAMMASAMXAXAXMXMSSMMSXSASXSAMXXMASMXSMMMMMXXMAXXSXXXAXMSAMXSMXMSXSAMXMXMSXMMXSMXMXSMS\\n',\n",
       " 'AXMASXMAASAMMMSMSAMSAMXMAXMAAAMXMASAAMMMAAAMMXMASMAMAMASMSAASXMAXMMXASAMXAAAMSAMMMAMMMXMASASAXXASMMMMSAMMMXMASXMASMSMMMAMMMMMAXXAMXAXMAMSAAA\\n',\n",
       " 'XMSMMAMXMMSMAAAAMAMSAMXAMAMSSSMXAMMMSMAMMMMMSASXAXAMASXMAAMXXMSMXSAMXSMMSMMSMMAMASAMMAAXSMMSAMSMMAAAMMAMAASMMMXMMXMASAMAMSMSSSSSSMMXSXMXAMXM\\n',\n",
       " 'SAMXSAMSXMASMSSMSMMMMMMAMMMMAMASMXSAAMSMMAMXSASMSSXSASMMSMMMSMAAAXAAAXAAMAMXASMMMSASXSMSMMXMXMAXMSMSSSSMSMXAASMMAASAMXSASAAXAAMXAASMMASAMXAX\\n',\n",
       " 'ASAASXMMAXAXMAXXAXAXASAMXAAXMMMMMAMXSXMASXSMMMMAAMXMASAAMXSAAMMAMSSMSMMMSSMSMMXMXSXMAXXAAXMMSSMSXMAMAAAAXMSSMXASXXMMSMSMSMSMMMMSSMMASAMAXSSS\\n']"
      ]
     },
     "execution_count": 48,
     "metadata": {},
     "output_type": "execute_result"
    }
   ],
   "source": [
    "#open and check file\n",
    "file = open('Day4 input.txt','r')\n",
    "lines = file.readlines()\n",
    "file.close()\n",
    "lines[:5]"
   ]
  },
  {
   "cell_type": "code",
   "execution_count": 49,
   "metadata": {},
   "outputs": [
    {
     "data": {
      "text/plain": [
       "['AAMXMASASMXSAMXXSAMSAMXXSXMMSMMSXSASXSXSSSXSAMXXXSXMASXMAMMASAMXAXAXMXMSSMMSXSASXSAMXXMASMXSMMMMMXXMAXXSXXXAXMSAMXSMXMSXSAMXMXMSXMMXSMXMXSMS',\n",
       " 'AXMASXMAASAMMMSMSAMSAMXMAXMAAAMXMASAAMMMAAAMMXMASMAMAMASMSAASXMAXMMXASAMXAAAMSAMMMAMMMXMASASAXXASMMMMSAMMMXMASXMASMSMMMAMMMMMAXXAMXAXMAMSAAA',\n",
       " 'XMSMMAMXMMSMAAAAMAMSAMXAMAMSSSMXAMMMSMAMMMMMSASXAXAMASXMAAMXXMSMXSAMXSMMSMMSMMAMASAMMAAXSMMSAMSMMAAAMMAMAASMMMXMMXMASAMAMSMSSSSSSMMXSXMXAMXM',\n",
       " 'SAMXSAMSXMASMSSMSMMMMMMAMMMMAMASMXSAAMSMMAMXSASMSSXSASMMSMMMSMAAAXAAAXAAMAMXASMMMSASXSMSMMXMXMAXMSMSSSSMSMXAASMMAASAMXSASAAXAAMXAASMMASAMXAX',\n",
       " 'ASAASXMMAXAXMAXXAXAXASAMXAAXMMMMMAMXSXMASXSMMMMAAMXMASAAMXSAAMMAMSSMSMMMSSMSMMXMXSXMAXXAAXMMSSMSXMAMAAAAXMSSMXASXXMMSMSMSMSMMMMSSMMASAMAXSSS']"
      ]
     },
     "execution_count": 49,
     "metadata": {},
     "output_type": "execute_result"
    }
   ],
   "source": [
    "#create text matrix, remove '\\n' at end of lines\n",
    "matrix = []\n",
    "for l in lines:\n",
    "    matrix.append(l.strip())\n",
    "matrix[:5]"
   ]
  },
  {
   "cell_type": "code",
   "execution_count": 45,
   "metadata": {},
   "outputs": [],
   "source": [
    "#Part 1\n",
    "\n",
    "maxcol = len(matrix[0])\n",
    "maxrow = len(matrix)\n",
    "\n",
    "def mat (row,col):\n",
    "    '''shortcut to avoid typing of brackets'''\n",
    "    global matrix\n",
    "    return matrix[row][col] \n",
    "                "
   ]
  },
  {
   "cell_type": "code",
   "execution_count": 94,
   "metadata": {},
   "outputs": [],
   "source": [
    "#generate other matrices in 4 directions\n",
    "\n",
    "#matrix already generated, has horizontal words\n",
    "\n",
    "\n",
    "#matvert has vertical words\n",
    "matvert = []\n",
    "for col in range(maxcol):\n",
    "    tempword = ''\n",
    "    for row in range(maxrow):\n",
    "        tempword += mat(row,col)\n",
    "    matvert.append(tempword)\n",
    "    \n",
    "#matupleft has diagonal words / starting from upper left \n",
    "matupleft = []\n",
    "for col in range(maxcol*2):\n",
    "    tempcol = col\n",
    "    row=0\n",
    "    tempword = ''\n",
    "    while row<maxrow and tempcol>=0:\n",
    "        try:\n",
    "            tempword += mat(row,tempcol)\n",
    "        except IndexError:\n",
    "            pass\n",
    "        tempcol -=1\n",
    "        row +=1\n",
    "    matupleft.append(tempword)\n",
    "\n",
    "#matupright has diagonal words \\ starting from upper right\n",
    "matupright = []\n",
    "for col in range(maxcol-1,-maxcol,-1):\n",
    "    tempcol = col\n",
    "    row=0\n",
    "    tempword = ''\n",
    "    while row<maxrow and tempcol<maxcol:\n",
    "\n",
    "        if tempcol>=0:\n",
    "            tempword += mat(row,tempcol)\n",
    "        tempcol +=1\n",
    "        row +=1\n",
    "    matupright.append(tempword)\n",
    "\n",
    "                "
   ]
  },
  {
   "cell_type": "code",
   "execution_count": 97,
   "metadata": {},
   "outputs": [
    {
     "data": {
      "text/plain": [
       "2613"
      ]
     },
     "execution_count": 97,
     "metadata": {},
     "output_type": "execute_result"
    }
   ],
   "source": [
    "#Part 1 Count\n",
    "#Count occurences of word and reverse of word in every matrix\n",
    "\n",
    "xcount = 0\n",
    "for matx in [matrix, matvert, matupleft, matupright]:\n",
    "    for m in matx:\n",
    "        xcount += m.count('XMAS')\n",
    "        xcount += m.count('SAMX')\n",
    "xcount"
   ]
  },
  {
   "cell_type": "code",
   "execution_count": 92,
   "metadata": {},
   "outputs": [
    {
     "data": {
      "text/plain": [
       "1905"
      ]
     },
     "execution_count": 92,
     "metadata": {},
     "output_type": "execute_result"
    }
   ],
   "source": [
    "#Part 2 Count\n",
    "#Redo diagonal matrices above\n",
    "#as words are formed in both / and \\ diagonal matrices, check for occurences of 'SAM' and 'MAS'\n",
    "#and store row,col coordinate of 'A' then cross check\n",
    "\n",
    "maxcol = len(matrix[0])\n",
    "maxrow = len(matrix)\n",
    "\n",
    "xcount2 = 0\n",
    "coordinates = []\n",
    "\n",
    "\n",
    "#matrix of diagonal letters from upper left\n",
    "for col in range(maxcol*2):\n",
    "    tempcol = col\n",
    "    row=0\n",
    "    tempword = ''\n",
    "    while row<maxrow and tempcol>=0:\n",
    "        if tempcol<maxcol:\n",
    "            tempword += mat(row,tempcol)\n",
    "            if tempword.endswith('SAM') or tempword.endswith('MAS'): #check\n",
    "                coo = [row-1,tempcol+1] #coordinates of 'A'\n",
    "                coordinates.append(coo) #store coordintes of 'A' in list coordinates\n",
    "                \n",
    "        tempcol -=1\n",
    "        row +=1\n",
    "\n",
    "\n",
    "#matrix of diagonal letters from upper right\n",
    "for col in range(maxcol-1,-maxcol,-1):\n",
    "    tempcol = col\n",
    "    row=0\n",
    "    tempword = ''\n",
    "    while row<maxrow and tempcol<maxcol:\n",
    "        \n",
    "        if tempcol>=0:\n",
    "            tempword += mat(row,tempcol)\n",
    "            if tempword.endswith('SAM') or tempword.endswith('MAS'):\n",
    "                coo = [row-1,tempcol-1] #coordinates of 'A'\n",
    "                #print(coo,tempword)\n",
    "                if coo in coordinates:  #match coordinates of 'A' against  list coordinates\n",
    "                    xcount2 +=1         #if match, add 1 to count\n",
    "\n",
    "        tempcol +=1\n",
    "        row +=1\n",
    "\n",
    "xcount2"
   ]
  },
  {
   "cell_type": "code",
   "execution_count": null,
   "metadata": {},
   "outputs": [],
   "source": []
  }
 ],
 "metadata": {
  "kernelspec": {
   "display_name": "Python 3",
   "language": "python",
   "name": "python3"
  },
  "language_info": {
   "codemirror_mode": {
    "name": "ipython",
    "version": 3
   },
   "file_extension": ".py",
   "mimetype": "text/x-python",
   "name": "python",
   "nbconvert_exporter": "python",
   "pygments_lexer": "ipython3",
   "version": "3.8.5"
  }
 },
 "nbformat": 4,
 "nbformat_minor": 4
}
